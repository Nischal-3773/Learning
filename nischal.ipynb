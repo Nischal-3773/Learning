{
 "cells": [
  {
   "cell_type": "code",
   "execution_count": 2,
   "id": "77e52f19",
   "metadata": {},
   "outputs": [
    {
     "name": "stdout",
     "output_type": "stream",
     "text": [
      "nischal ghimire\n",
      "hello nischal\n"
     ]
    }
   ],
   "source": [
    "print(\"nischal ghimire\")\n",
    "print(\"hello nischal\")"
   ]
  },
  {
   "cell_type": "code",
   "execution_count": 4,
   "id": "4957546c",
   "metadata": {},
   "outputs": [
    {
     "name": "stdout",
     "output_type": "stream",
     "text": [
      "21\n",
      "21\n"
     ]
    }
   ],
   "source": [
    "a = 10 + 11\n",
    "print(a)\n",
    "print(10 + 11)"
   ]
  },
  {
   "cell_type": "code",
   "execution_count": 6,
   "id": "2ff030cc",
   "metadata": {},
   "outputs": [
    {
     "name": "stdout",
     "output_type": "stream",
     "text": [
      "Variable   Type     Data/Info\n",
      "-----------------------------\n",
      "a          int      3\n",
      "b          float    3.5\n",
      "c          float    3.3333\n"
     ]
    }
   ],
   "source": [
    "a,b,c = 3, 3.5, 3.3333\n",
    "%whos"
   ]
  },
  {
   "cell_type": "code",
   "execution_count": 8,
   "id": "a436bd59",
   "metadata": {},
   "outputs": [
    {
     "name": "stdout",
     "output_type": "stream",
     "text": [
      "3\n"
     ]
    }
   ],
   "source": [
    "print(a)"
   ]
  },
  {
   "cell_type": "code",
   "execution_count": 9,
   "id": "60aa0979",
   "metadata": {},
   "outputs": [
    {
     "name": "stdout",
     "output_type": "stream",
     "text": [
      "3.5\n"
     ]
    }
   ],
   "source": [
    "print(b)"
   ]
  },
  {
   "cell_type": "markdown",
   "id": "4906f1dc",
   "metadata": {},
   "source": [
    "starting something"
   ]
  },
  {
   "cell_type": "code",
   "execution_count": null,
   "id": "25ad41c2",
   "metadata": {},
   "outputs": [
    {
     "name": "stdout",
     "output_type": "stream",
     "text": [
      "1\n"
     ]
    }
   ],
   "source": [
    "a = input(\"enter a number\")\n",
    "b = int(a)\n",
    "print(b)\n",
    "\n"
   ]
  },
  {
   "cell_type": "code",
   "execution_count": 18,
   "id": "3f89b967",
   "metadata": {},
   "outputs": [
    {
     "name": "stdout",
     "output_type": "stream",
     "text": [
      "nischal 20 black\n",
      "nischal20black\n"
     ]
    }
   ],
   "source": [
    "a = \"nischal\"\n",
    "b = 20\n",
    "c = \"black\"\n",
    "print(a,b,c)\n",
    "print(a + str(b) +c)\n"
   ]
  },
  {
   "cell_type": "code",
   "execution_count": 21,
   "id": "9d1f0880",
   "metadata": {},
   "outputs": [
    {
     "name": "stdout",
     "output_type": "stream",
     "text": [
      "20 10\n"
     ]
    }
   ],
   "source": [
    "x = 10\n",
    "y = 20\n",
    "x = x + y\n",
    "y = x -y\n",
    "x = x - y\n",
    "print(x,y)"
   ]
  },
  {
   "cell_type": "code",
   "execution_count": null,
   "id": "a2bc57fc",
   "metadata": {},
   "outputs": [],
   "source": []
  }
 ],
 "metadata": {
  "kernelspec": {
   "display_name": "Python 3",
   "language": "python",
   "name": "python3"
  },
  "language_info": {
   "codemirror_mode": {
    "name": "ipython",
    "version": 3
   },
   "file_extension": ".py",
   "mimetype": "text/x-python",
   "name": "python",
   "nbconvert_exporter": "python",
   "pygments_lexer": "ipython3",
   "version": "3.12.3"
  }
 },
 "nbformat": 4,
 "nbformat_minor": 5
}
