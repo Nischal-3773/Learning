{
 "cells": [
  {
   "cell_type": "markdown",
   "id": "9b5aca37-2e3e-4e1a-971b-4f565013244c",
   "metadata": {},
   "source": [
    "<h1>Data Science Tools and Ecosystem</h1>"
   ]
  },
  {
   "cell_type": "markdown",
   "id": "25f4ee82-bac9-4d89-9aa6-2e0c5fd26476",
   "metadata": {},
   "source": [
    "In this notebook, Data Science Tools and Ecosystem are summarized."
   ]
  },
  {
   "cell_type": "markdown",
   "id": "385c8ba0-fafb-44b8-9783-ac699e921dcc",
   "metadata": {},
   "source": [
    "Some of the popular languages that Data Scientists use are:\n",
    "# Popular Data Science Tools\n",
    "\n",
    "| Tool         | Category                | Description |\n",
    "|-------------|------------------------|-------------|\n",
    "| **Jupyter Notebook** | IDE / Environment | Interactive notebook for coding, visualization, and documentation. |\n",
    "| **Apache Spark** | Big Data Processing | Distributed computing framework for large-scale data processing. |\n",
    "| **TensorFlow** | Machine Learning | Open-source library for deep learning and AI. |\n",
    "| **Scikit-Learn** | Machine Learning | Popular ML library for classification, regression, and clustering. |\n",
    "| **Pandas** | Data Manipulation | Powerful library for handling and analyzing structured data. |\n",
    "| **Matplotlib** | Data Visualization | Library for creating static, animated, and interactive plots. |\n",
    "| **Tableau** | Data Visualization | Business intelligence tool for interactive dashboards and analytics. |\n",
    "| **Power BI** | Data Visualization | Microsoft’s business analytics tool for data-driven insights. |\n",
    "| **SQL** | Database Querying | Language for querying and managing structured data. |\n",
    "| **Hadoop** | Big Data Processing | Framework for distributed storage and processing of big data. |\n",
    "\n"
   ]
  },
  {
   "cell_type": "markdown",
   "id": "b049d55b-39d9-4ffb-b89a-ea7804132e43",
   "metadata": {},
   "source": [
    "<h1>Some of the commonly used libraries used by Data Scientists include:</h1>\n",
    "\n",
    "\n",
    "1. NumPy  \n",
    "2. Pandas  \n",
    "3. Matplotlib  \n",
    "4. Scikit-Learn  \n",
    "5. TensorFlow  \n"
   ]
  },
  {
   "cell_type": "markdown",
   "id": "f284854c-5e76-4133-b6d4-83c747df63c2",
   "metadata": {},
   "source": [
    "<h1>some of the commonly use data science tools</h1>\n",
    "\n",
    "\n",
    "1. Jupyter Notebook  \n",
    "2. Apache Spark  \n",
    "3. TensorFlow  \n",
    "4. Scikit-Learn  \n",
    "5. Pandas  \n",
    "6. Matplotlib  \n",
    "7. Tableau  \n",
    "8. Power BI  \n",
    "9. SQL  \n",
    "10. Hadoop  \n"
   ]
  },
  {
   "cell_type": "markdown",
   "id": "49d644ed-bae1-43fb-9d87-49b38defe176",
   "metadata": {},
   "source": [
    "<h3>Below are a few examples of evaluating arithmetic expressions in Python</h3>\n"
   ]
  },
  {
   "cell_type": "code",
   "execution_count": 4,
   "id": "e1117d5b-a8fb-4cde-87be-04584976b64e",
   "metadata": {},
   "outputs": [
    {
     "name": "stdin",
     "output_type": "stream",
     "text": [
      "Enter first number:  2\n",
      "Enter second number:  3\n"
     ]
    },
    {
     "name": "stdout",
     "output_type": "stream",
     "text": [
      "\n",
      "Results:\n",
      "2.0 + 3.0 = 5.0\n",
      "2.0 - 3.0 = -1.0\n",
      "2.0 * 3.0 = 6.0\n",
      "2.0 / 3.0 = 0.6666666666666666\n"
     ]
    }
   ],
   "source": [
    "a = float(input(\"Enter first number: \"))  \n",
    "b = float(input(\"Enter second number: \"))  \n",
    "\n",
    "sum_result = a + b  \n",
    "difference = a - b  \n",
    "product = a * b  \n",
    "quotient = a / b if b != 0 else \"Undefined (division by zero)\"  \n",
    "\n",
    "print(\"\\nResults:\")  \n",
    "print(f\"{a} + {b} = {sum_result}\")  \n",
    "print(f\"{a} - {b} = {difference}\")  \n",
    "print(f\"{a} * {b} = {product}\")  \n",
    "print(f\"{a} / {b} = {quotient}\")  \n"
   ]
  },
  {
   "cell_type": "code",
   "execution_count": 7,
   "id": "65e734fb-5e92-4451-b628-c0a3e3d419f8",
   "metadata": {},
   "outputs": [
    {
     "name": "stdout",
     "output_type": "stream",
     "text": [
      "The total hours is 3.3333333333333335\n"
     ]
    }
   ],
   "source": [
    "#200 minutes into hours.\n",
    "#This will convert 200 minutes to hours by diving by 60.\n",
    "a = 200\n",
    "b = 200/60\n",
    "print(f'The total hours is {b}')\n"
   ]
  },
  {
   "cell_type": "markdown",
   "id": "09b6b4a0-6364-4835-bc31-128c954a6032",
   "metadata": {},
   "source": [
    "**Objectives:**\n",
    "<h5>List of the popular language for data science</h5>\n",
    "# Unordered List Example\n",
    "\n",
    "- Python  \n",
    "- R  \n",
    "- SQL  \n",
    "- Julia  \n",
    "- Scala  \n"
   ]
  },
  {
   "cell_type": "markdown",
   "id": "de9a18a4-0dfe-42d8-9a87-242adc178b55",
   "metadata": {},
   "source": [
    "<h2>Author:</h2>\n",
    "Nischal Ghimire\n",
    "\n"
   ]
  },
  {
   "cell_type": "code",
   "execution_count": null,
   "id": "7eabedfe-db34-46bc-a147-862bf0e0e6a6",
   "metadata": {},
   "outputs": [],
   "source": []
  }
 ],
 "metadata": {
  "kernelspec": {
   "display_name": "Python 3 (ipykernel)",
   "language": "python",
   "name": "python3"
  },
  "language_info": {
   "codemirror_mode": {
    "name": "ipython",
    "version": 3
   },
   "file_extension": ".py",
   "mimetype": "text/x-python",
   "name": "python",
   "nbconvert_exporter": "python",
   "pygments_lexer": "ipython3",
   "version": "3.12.3"
  }
 },
 "nbformat": 4,
 "nbformat_minor": 5
}
