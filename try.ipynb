{
 "cells": [
  {
   "cell_type": "code",
   "execution_count": 1,
   "id": "783a2d84",
   "metadata": {},
   "outputs": [
    {
     "name": "stdout",
     "output_type": "stream",
     "text": [
      "Hello\n",
      "Nothing went wrong\n"
     ]
    }
   ],
   "source": [
    "try:\n",
    "  print(\"Hello\")\n",
    "except:\n",
    "  print(\"Something went wrong\")\n",
    "else:\n",
    "  print(\"Nothing went wrong\")"
   ]
  },
  {
   "cell_type": "code",
   "execution_count": null,
   "id": "04c29ff6",
   "metadata": {},
   "outputs": [],
   "source": [
    "import greeting as p:\n"
   ]
  },
  {
   "cell_type": "code",
   "execution_count": 2,
   "id": "41e62cb9",
   "metadata": {},
   "outputs": [
    {
     "name": "stdout",
     "output_type": "stream",
     "text": [
      "nischal ghimire\n",
      "hello world\n"
     ]
    }
   ],
   "source": [
    "try:\n",
    "    print(\"nischal ghimire\")\n",
    "except:\n",
    "    print(\"sanskriti Dahal\")\n",
    "else:\n",
    "    print(\"hello world\")"
   ]
  }
 ],
 "metadata": {
  "kernelspec": {
   "display_name": "Python 3",
   "language": "python",
   "name": "python3"
  },
  "language_info": {
   "codemirror_mode": {
    "name": "ipython",
    "version": 3
   },
   "file_extension": ".py",
   "mimetype": "text/x-python",
   "name": "python",
   "nbconvert_exporter": "python",
   "pygments_lexer": "ipython3",
   "version": "3.12.3"
  }
 },
 "nbformat": 4,
 "nbformat_minor": 5
}
