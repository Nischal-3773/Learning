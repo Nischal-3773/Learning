{
 "cells": [
  {
   "cell_type": "code",
   "execution_count": 7,
   "id": "4a535947",
   "metadata": {},
   "outputs": [
    {
     "name": "stdout",
     "output_type": "stream",
     "text": [
      "[1 2 3 4 5 6 7]\n",
      "<class 'numpy.ndarray'>\n"
     ]
    }
   ],
   "source": [
    "import numpy as np\n",
    "\n",
    "\n",
    "hi = np.array([1,2,3,4,5,6,7])\n",
    "print(hi)\n",
    "print(type(hi))\n"
   ]
  },
  {
   "cell_type": "code",
   "execution_count": 8,
   "id": "9cd87151",
   "metadata": {},
   "outputs": [
    {
     "name": "stdout",
     "output_type": "stream",
     "text": [
      "[1 2 3]\n"
     ]
    }
   ],
   "source": [
    "hi = np.array((1,2,3))\n",
    "print(hi)"
   ]
  },
  {
   "cell_type": "code",
   "execution_count": 14,
   "id": "1d146f30",
   "metadata": {},
   "outputs": [
    {
     "name": "stdout",
     "output_type": "stream",
     "text": [
      "40\n",
      "[[1 2 3 4]\n",
      " [5 6 7 8]]\n",
      "<class 'numpy.ndarray'>\n",
      "<class 'numpy.ndarray'>\n",
      "[[[ 1  2  3]\n",
      "  [ 4  5  6]\n",
      "  [ 7  8  9]\n",
      "  [12 13 14]]]\n"
     ]
    }
   ],
   "source": [
    "#import numpy as np\n",
    "#learning 1d ,2d and 3d \n",
    "h = np.array(40)\n",
    "x = np.array([[1,2,3,4],[5,6,7,8]])\n",
    "print(h)\n",
    "print(x)\n",
    "print(type(h))\n",
    "print(type(x))\n",
    "# for 3d \n",
    "\n",
    "y = np.array([[[1,2,3],[4,5,6],[7,8,9],[12,13,14]]])\n",
    "print(y)\n"
   ]
  },
  {
   "cell_type": "code",
   "execution_count": 17,
   "id": "1c96db1b",
   "metadata": {},
   "outputs": [
    {
     "name": "stdout",
     "output_type": "stream",
     "text": [
      "[['1' '2' '3']\n",
      " ['4' '2' '6']\n",
      " ['7' '8' '2']\n",
      " ['1' '2' '3']\n",
      " ['boom' 'baam' 'hehe']]\n"
     ]
    }
   ],
   "source": [
    "import numpy as np\n",
    "\n",
    "arr = np.array([\n",
    "    [1, 2, 3],\n",
    "    [4, 2, 6],\n",
    "    [7, 8, 2],\n",
    "    [1,2,3],\n",
    "    [\"boom\",\"baam\",\"hehe\"]\n",
    "])\n",
    "\n",
    "print(arr)\n"
   ]
  },
  {
   "cell_type": "code",
   "execution_count": 10,
   "id": "8e37c9c6",
   "metadata": {},
   "outputs": [
    {
     "name": "stdout",
     "output_type": "stream",
     "text": [
      "28\n"
     ]
    }
   ],
   "source": [
    "x = np.random.randint(20,30)\n",
    "print(x)\n"
   ]
  },
  {
   "cell_type": "code",
   "execution_count": 15,
   "id": "8662d3af",
   "metadata": {},
   "outputs": [
    {
     "name": "stdout",
     "output_type": "stream",
     "text": [
      "[0 1 2 3 4]\n",
      "[9 0 2 6 5 4 3 7 1 8]\n"
     ]
    }
   ],
   "source": [
    "\n",
    "a = np.arange(5)\n",
    "print(a)\n",
    "\n",
    "x = np.random.permutation(10)\n",
    "print(x)\n"
   ]
  },
  {
   "cell_type": "code",
   "execution_count": null,
   "id": "4b5c5e07",
   "metadata": {},
   "outputs": [],
   "source": []
  }
 ],
 "metadata": {
  "kernelspec": {
   "display_name": "Python 3",
   "language": "python",
   "name": "python3"
  },
  "language_info": {
   "codemirror_mode": {
    "name": "ipython",
    "version": 3
   },
   "file_extension": ".py",
   "mimetype": "text/x-python",
   "name": "python",
   "nbconvert_exporter": "python",
   "pygments_lexer": "ipython3",
   "version": "3.12.3"
  }
 },
 "nbformat": 4,
 "nbformat_minor": 5
}
