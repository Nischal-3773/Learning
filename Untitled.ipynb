{
 "cells": [
  {
   "cell_type": "code",
   "execution_count": null,
   "id": "a12a74b8-dde6-4ef5-b49f-4b4c59b7d658",
   "metadata": {},
   "outputs": [],
   "source": []
  }
 ],
 "metadata": {
  "kernelspec": {
   "display_name": "",
   "name": ""
  },
  "language_info": {
   "name": ""
  }
 },
 "nbformat": 4,
 "nbformat_minor": 5
}
