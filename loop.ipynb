{
 "cells": [
  {
   "cell_type": "code",
   "execution_count": 5,
   "id": "cb73a413",
   "metadata": {},
   "outputs": [
    {
     "name": "stdout",
     "output_type": "stream",
     "text": [
      "4\n",
      "3\n",
      "2\n",
      "1\n"
     ]
    }
   ],
   "source": [
    "a = int(input(\"enter the number:\"))\n",
    "i =  1\n",
    "while i<=a:\n",
    "    print(a)\n",
    "    a = a-1\n"
   ]
  },
  {
   "cell_type": "code",
   "execution_count": 8,
   "id": "3f7dc9cf",
   "metadata": {},
   "outputs": [
    {
     "name": "stdout",
     "output_type": "stream",
     "text": [
      "1\n",
      "2\n",
      "3\n",
      "4\n",
      "5\n",
      "6\n",
      "7\n",
      "8\n",
      "9\n",
      "10\n"
     ]
    }
   ],
   "source": [
    "a = 10\n",
    "i = 1\n",
    "while i<=a:\n",
    "    print(i)\n",
    "    i +=1\n",
    "\n",
    "    \n"
   ]
  },
  {
   "cell_type": "code",
   "execution_count": null,
   "id": "19f3a58c",
   "metadata": {},
   "outputs": [
    {
     "name": "stdout",
     "output_type": "stream",
     "text": [
      "2\n",
      "4\n",
      "6\n",
      "8\n",
      "10\n",
      "12\n",
      "14\n",
      "16\n",
      "18\n",
      "20\n"
     ]
    }
   ],
   "source": [
    "a = int(input(\"enter any number you want to find odd and even\"))\n",
    "i = 1\n",
    "while i<=a:\n",
    "    if i%2 == 0:\n",
    "        print(i)\n",
    "    i +=1\n",
    "    \n",
    "\n",
    "    \n"
   ]
  },
  {
   "cell_type": "code",
   "execution_count": null,
   "id": "fe67b07b",
   "metadata": {},
   "outputs": [
    {
     "name": "stdout",
     "output_type": "stream",
     "text": [
      "not found\n",
      "not found\n",
      "not found\n",
      "not found\n",
      "not found\n",
      "found\n",
      "not found\n",
      "not found\n",
      "not found\n",
      "not found\n"
     ]
    }
   ],
   "source": [
    "nums = (1,4,9,16, 25, 36, 49, 64, 81, 100)\n",
    "a = 36\n",
    "i = 0\n",
    "while i < len(nums):\n",
    "    if nums[i] == a:\n",
    "        print(\"found 36\")\n",
    "    else:\n",
    "        print(\"not found\")\n",
    "    i +=1\n",
    "\n",
    "\n",
    "\n",
    "\n",
    "\n",
    "    "
   ]
  },
  {
   "cell_type": "code",
   "execution_count": 24,
   "id": "f996319a",
   "metadata": {},
   "outputs": [
    {
     "name": "stdout",
     "output_type": "stream",
     "text": [
      "not found.....\n",
      "not found.....\n",
      "not found.....\n",
      "not found.....\n",
      "not found.....\n",
      "not found.....\n",
      "not found.....\n",
      "not found.....\n",
      "not found.....\n",
      "not found.....\n",
      "boom baam\n"
     ]
    }
   ],
   "source": [
    "nums = (1,4,9,16, 25, 36, 49, 64, 81, 100)\n",
    "a = 30\n",
    "i = 0\n",
    "while i <len(nums):\n",
    "    if nums[i] == a:\n",
    "        print(\"found:\")\n",
    "        break \n",
    "    else:\n",
    "        print(\"not found.....\")\n",
    "    i +=1\n",
    "print(\"boom baam\")\n",
    "        "
   ]
  },
  {
   "cell_type": "code",
   "execution_count": 25,
   "id": "63c43298",
   "metadata": {},
   "outputs": [
    {
     "name": "stdout",
     "output_type": "stream",
     "text": [
      "1\n",
      "2\n",
      "3\n",
      "4\n",
      "5\n",
      "2\n",
      "8\n",
      "9\n"
     ]
    }
   ],
   "source": [
    "tup = (1,2,3,4,5,2,8,9)\n",
    "for num in tup:\n",
    "    print(num)\n",
    "    "
   ]
  },
  {
   "cell_type": "code",
   "execution_count": 27,
   "id": "e3ab0e10",
   "metadata": {},
   "outputs": [
    {
     "name": "stdout",
     "output_type": "stream",
     "text": [
      "found the number 9\n"
     ]
    }
   ],
   "source": [
    "tup = (1,2,3,4,5,6,7,8,9,10)\n",
    "a = 9\n",
    "for num in tup:\n",
    "    if num == a:\n",
    "        print(\"found the number\", num)\n",
    "        break\n",
    "else:\n",
    "    print(\"not found the number\", num)"
   ]
  },
  {
   "cell_type": "code",
   "execution_count": 33,
   "id": "d1754675",
   "metadata": {},
   "outputs": [
    {
     "name": "stdout",
     "output_type": "stream",
     "text": [
      "found\n"
     ]
    }
   ],
   "source": [
    "str = \"nischal\"\n",
    "for a in str:\n",
    "    if a == \"a\":\n",
    "        print(\"found\")\n",
    "        break\n",
    "else:\n",
    "    print(\"not found in the string:\")\n"
   ]
  },
  {
   "cell_type": "code",
   "execution_count": 34,
   "id": "147c793f",
   "metadata": {},
   "outputs": [
    {
     "name": "stdout",
     "output_type": "stream",
     "text": [
      "0\n",
      "1\n",
      "2\n",
      "3\n",
      "4\n"
     ]
    }
   ],
   "source": [
    "for i in range(5):\n",
    "    print(i)"
   ]
  },
  {
   "cell_type": "code",
   "execution_count": 35,
   "id": "5f4fcf3d",
   "metadata": {},
   "outputs": [
    {
     "name": "stdout",
     "output_type": "stream",
     "text": [
      "10\n",
      "20\n",
      "30\n",
      "40\n",
      "50\n",
      "60\n",
      "70\n",
      "80\n",
      "90\n"
     ]
    }
   ],
   "source": [
    "for num in range(10,100,10):\n",
    "    print(num)\n",
    "    "
   ]
  },
  {
   "cell_type": "code",
   "execution_count": 36,
   "id": "3bd832a4",
   "metadata": {},
   "outputs": [
    {
     "name": "stdout",
     "output_type": "stream",
     "text": [
      "hello world!\n"
     ]
    }
   ],
   "source": [
    "for i in range(10):\n",
    "    pass \n",
    "print(\"hello world!\")"
   ]
  },
  {
   "cell_type": "code",
   "execution_count": 39,
   "id": "9ba7fbed",
   "metadata": {},
   "outputs": [
    {
     "name": "stdout",
     "output_type": "stream",
     "text": [
      "55\n"
     ]
    }
   ],
   "source": [
    "h = int(input(\"enter any number:\"))\n",
    "a = 0\n",
    "i = 1\n",
    "while i<=h:\n",
    "    a = a + i\n",
    "    i +=1\n",
    "print(a)\n"
   ]
  },
  {
   "cell_type": "code",
   "execution_count": 41,
   "id": "825c95f1",
   "metadata": {},
   "outputs": [
    {
     "name": "stdout",
     "output_type": "stream",
     "text": [
      "24\n"
     ]
    }
   ],
   "source": [
    "y = int(input(\"enter any number to find factorial:\"))\n",
    "a = 1\n",
    "for i in range(1,y+1):\n",
    "    a = a * i\n",
    "print(a)"
   ]
  },
  {
   "cell_type": "code",
   "execution_count": 42,
   "id": "f5e04b69",
   "metadata": {},
   "outputs": [
    {
     "name": "stdout",
     "output_type": "stream",
     "text": [
      "[1, 2, 3, 4, 4, 5, 5, 6, 7, 7]\n"
     ]
    }
   ],
   "source": [
    "sans = [1,3,4,5,2,5,6,7,4,7]\n",
    "sans.sort()\n",
    "print(sans)"
   ]
  },
  {
   "cell_type": "code",
   "execution_count": null,
   "id": "3ca658e3",
   "metadata": {},
   "outputs": [],
   "source": []
  }
 ],
 "metadata": {
  "kernelspec": {
   "display_name": "Python 3",
   "language": "python",
   "name": "python3"
  },
  "language_info": {
   "codemirror_mode": {
    "name": "ipython",
    "version": 3
   },
   "file_extension": ".py",
   "mimetype": "text/x-python",
   "name": "python",
   "nbconvert_exporter": "python",
   "pygments_lexer": "ipython3",
   "version": "3.12.3"
  }
 },
 "nbformat": 4,
 "nbformat_minor": 5
}
