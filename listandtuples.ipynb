{
 "cells": [
  {
   "cell_type": "code",
   "execution_count": null,
   "id": "558c40d4",
   "metadata": {},
   "outputs": [],
   "source": [
    "#lists\n",
    "movi = []\n",
    "a = input(\"enter the first movie:\")\n",
    "b = input(\"enter the second value:\")\n",
    "c = input(\"enter the third value:\")\n",
    "\n",
    "movi.append(a)\n",
    "movi.append(b)\n",
    "movi.append(c)\n",
    "print(movi)\n",
    "print(type(movi))\n"
   ]
  },
  {
   "cell_type": "code",
   "execution_count": null,
   "id": "7311865b",
   "metadata": {},
   "outputs": [],
   "source": [
    "hi = []\n",
    "a = int(input(\"enter the first value:\"))\n",
    "b = int(input(\"enter the second value:\"))\n",
    "c = int(input(\"enter the third value:\"))\n",
    "d = int(input(\"enter the fourth value:\"))\n",
    "\n",
    "hi.append(a)\n",
    "hi.append(b)\n",
    "hi.append(c)\n",
    "hi.append(d)\n",
    "hi.append(7)\n",
    "hi.sort() # this is applied for both int value and string value:\n",
    "\n",
    "\n",
    "print(hi)\n",
    "hi.remove(a)\n",
    "print(\"the required list is:\",hi)\n",
    "\n"
   ]
  },
  {
   "cell_type": "code",
   "execution_count": null,
   "id": "7ae93884",
   "metadata": {},
   "outputs": [],
   "source": [
    "tup = (1,2,3,4,5,6,7,1,1,1)\n",
    "print(type(tup))\n",
    "print(tup)\n",
    "print(tup.count(1))\n",
    "print(tup.index(4))\n"
   ]
  },
  {
   "cell_type": "code",
   "execution_count": null,
   "id": "ea9f204e",
   "metadata": {},
   "outputs": [],
   "source": [
    "# dictnory\n",
    "hi = {\n",
    "    \"name\" : \"nischal\",\n",
    "    \"surname\" : \"ghimire\",\n",
    "    10 : 12,\n",
    "    \"location\":{\n",
    "        \"place\" : \"school choun\",\n",
    "        \"municipaliti\" :\"gauradaha\",\n",
    "        \"school\": 2024\n",
    "    }\n",
    "\n",
    "}\n",
    "print(hi)\n",
    "hi[\"name\"] = \"sanskriti\"\n",
    "print(hi)\n",
    "print(hi.keys())\n",
    "print(hi.values())\n",
    "print(hi.get(\"address:\"))\n",
    "print(\"after the last process:\")\n",
    "a = hi.get(\"sanskriti:\")\n",
    "print(a)\n",
    "print(hi.items()) # this method just make the dictionary keys and values into to different tupels\n",
    "\n",
    "\n",
    "\n"
   ]
  },
  {
   "cell_type": "code",
   "execution_count": 27,
   "id": "08a0a944",
   "metadata": {},
   "outputs": [
    {
     "name": "stdout",
     "output_type": "stream",
     "text": [
      "{'maths:': 12, 'physics:': 23, 'chemistry:': 23}\n"
     ]
    }
   ],
   "source": [
    "marks = {}\n",
    "x = int(input(\"enter the marks of maths:\"))\n",
    "marks.update({\"maths:\" : x})\n",
    "\n",
    "x = int(input(\"enter the marks of physics:\"))\n",
    "marks.update({\"physics:\":x})\n",
    "\n",
    "x = int(input(\"enter the marks of chemistry:\"))\n",
    "marks.update({\"chemistry:\":x})\n",
    "\n",
    "print(marks)\n"
   ]
  },
  {
   "cell_type": "code",
   "execution_count": null,
   "id": "bae9036c",
   "metadata": {},
   "outputs": [],
   "source": []
  }
 ],
 "metadata": {
  "kernelspec": {
   "display_name": "Python 3",
   "language": "python",
   "name": "python3"
  },
  "language_info": {
   "codemirror_mode": {
    "name": "ipython",
    "version": 3
   },
   "file_extension": ".py",
   "mimetype": "text/x-python",
   "name": "python",
   "nbconvert_exporter": "python",
   "pygments_lexer": "ipython3",
   "version": "3.12.3"
  }
 },
 "nbformat": 4,
 "nbformat_minor": 5
}
