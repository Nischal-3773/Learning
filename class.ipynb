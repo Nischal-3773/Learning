{
 "cells": [
  {
   "cell_type": "code",
   "execution_count": 3,
   "id": "3a269c89",
   "metadata": {},
   "outputs": [
    {
     "name": "stdout",
     "output_type": "stream",
     "text": [
      "name is: susan\n",
      "name is: sanskriti\n",
      "name is: rohit pandey\n",
      "sanskriti\n"
     ]
    }
   ],
   "source": [
    "class nischal:\n",
    "    def __init__(self, fullname):\n",
    "        self.hi = fullname\n",
    "        print(\"name is:\", self.hi)\n",
    "    \n",
    "s = nischal(\"susan\")\n",
    "s2 = nischal(\"sanskriti\")\n",
    "s3 = nischal(\"rohit pandey\")\n",
    "print(s2.hi)\n",
    "        "
   ]
  },
  {
   "cell_type": "code",
   "execution_count": null,
   "id": "2cc20384",
   "metadata": {},
   "outputs": [
    {
     "name": "stdout",
     "output_type": "stream",
     "text": [
      "hello nischal\n",
      "and your marks is 97\n"
     ]
    }
   ],
   "source": [
    "class student:\n",
    "    def __init__(self, fullname, marks):\n",
    "        self.name = fullname\n",
    "        self.marks = marks\n",
    "    def hello(self):\n",
    "        print(\"hello\", self.name)\n",
    "        print(\"and your marks is\", self.marks)\n",
    "\n",
    "        \n",
    "a = input(\"enter your name:\")\n",
    "b = int(input(\"please enter your marks please!\"))\n",
    "s1 = student(a,b)\n",
    "s1.hello()\n",
    "\n",
    "        "
   ]
  },
  {
   "cell_type": "code",
   "execution_count": 5,
   "id": "dc9dc538",
   "metadata": {},
   "outputs": [
    {
     "name": "stdout",
     "output_type": "stream",
     "text": [
      "rs 1000 was debited:\n",
      "total balance is : 19000\n",
      "rs. 3000 is credit in your bank account:\n",
      "total balance is: 22000\n"
     ]
    }
   ],
   "source": [
    "class account:\n",
    "    def __init__(self,bal,acc):\n",
    "        self.balance = bal\n",
    "        self.account = acc\n",
    "    \n",
    "    def debit(self, amount):\n",
    "        self.balance -= amount\n",
    "        print(\"rs\",amount,\"was debited:\")\n",
    "        print(\"total balance is :\",self.balance)\n",
    "\n",
    "    def credit(self, amount):\n",
    "        self.balance += amount\n",
    "        print(\"rs.\",amount,\"is credit in your bank account:\")\n",
    "        print(\"total balance is:\",self.balance)\n",
    "\n",
    "    def get_balance(self):\n",
    "        return self.balance\n",
    "    \n",
    "\n",
    "s1 = account(20000, 3773)\n",
    "s1.debit(1000)\n",
    "s1.credit(3000)\n"
   ]
  },
  {
   "cell_type": "code",
   "execution_count": 7,
   "id": "289578ea",
   "metadata": {},
   "outputs": [
    {
     "name": "stdout",
     "output_type": "stream",
     "text": [
      "rs 1000 was debited:\n",
      "total balance is : 19000\n",
      "rs. 3000 is credit in your bank account:\n",
      "total balance is: 22000\n"
     ]
    }
   ],
   "source": [
    "class account:\n",
    "    def __init__(self,bal,acc):\n",
    "        self.balance = bal\n",
    "        self.account = acc\n",
    "    \n",
    "    def debit(self, amount):\n",
    "        self.balance -= amount\n",
    "        print(\"rs\",amount,\"was debited:\")\n",
    "        print(\"total balance is :\",self.get_balance())\n",
    "\n",
    "    def credit(self, amount):\n",
    "        self.balance += amount\n",
    "        print(\"rs.\",amount,\"is credit in your bank account:\")\n",
    "        print(\"total balance is:\",self.get_balance())\n",
    "\n",
    "    def get_balance(self):\n",
    "        return self.balance\n",
    "    \n",
    "\n",
    "s1 = account(20000, 3773)\n",
    "s1.debit(1000)\n",
    "s1.credit(3000)\n"
   ]
  },
  {
   "cell_type": "code",
   "execution_count": 6,
   "id": "51c1d3df",
   "metadata": {},
   "outputs": [
    {
     "name": "stdout",
     "output_type": "stream",
     "text": [
      "hello person\n",
      "None\n"
     ]
    }
   ],
   "source": [
    "class person:\n",
    "    __name = \"anonymous\"\n",
    "\n",
    "    def __hello(self):\n",
    "        print(\"hello person\")\n",
    "\n",
    "    def welcome(self):\n",
    "        self.__hello()\n",
    "    \n",
    "p1 = person()\n",
    "print(p1.welcome())\n"
   ]
  },
  {
   "cell_type": "code",
   "execution_count": null,
   "id": "771bd89d",
   "metadata": {},
   "outputs": [],
   "source": [
    "def greeting(name):\n",
    "    print(name +\"hello!\")\n",
    "\n",
    "\n"
   ]
  },
  {
   "cell_type": "code",
   "execution_count": 6,
   "id": "8c9692fd",
   "metadata": {},
   "outputs": [
    {
     "name": "stdout",
     "output_type": "stream",
     "text": [
      "your name is Nischal Ghimire\n"
     ]
    }
   ],
   "source": [
    "class person:\n",
    "    def __init__(self,first_name, last_name):\n",
    "        self.name = first_name\n",
    "        self.lname = last_name\n",
    "    \n",
    "    def hello(self):\n",
    "        print(\"your name is\",self.name ,self.lname)\n",
    "\n",
    "class student(person):\n",
    "    pass\n",
    "\n",
    "s1 = student(\"Nischal\" ,\"Ghimire\")\n",
    "s1.hello()\n",
    "\n",
    "        "
   ]
  },
  {
   "cell_type": "code",
   "execution_count": null,
   "id": "9aaa6947",
   "metadata": {},
   "outputs": [
    {
     "name": "stdout",
     "output_type": "stream",
     "text": [
      "97.0%\n"
     ]
    }
   ],
   "source": [
    "class school:\n",
    "    def __init__(self,phy, chem, math):\n",
    "        self.phy = phy\n",
    "        self.chem = chem\n",
    "        self.math = math\n",
    "\n",
    "    @property\n",
    "    def cal_per(self):\n",
    "        return str((self.phy + self.chem + self.math)/3) + \"%\"\n",
    "    \n",
    "\n",
    "x = school(97,97,97)\n",
    "print(x.cal_per)\n",
    "#boom boom \n",
    "\n",
    "\n",
    "        "
   ]
  },
  {
   "cell_type": "code",
   "execution_count": 9,
   "id": "42c2ffd7",
   "metadata": {},
   "outputs": [
    {
     "name": "stdout",
     "output_type": "stream",
     "text": [
      "4 i + 7 j\n",
      "3 i + 4 j\n",
      "7 i + 11 j\n"
     ]
    }
   ],
   "source": [
    "class complex:\n",
    "    def __init__(self, real , img):\n",
    "        self.real = real\n",
    "        self.img = img\n",
    "\n",
    "    def shownumber(self):\n",
    "        print(self.real,\"i +\", self.img,\"j\")\n",
    "\n",
    "    def __add__(self ,num2):\n",
    "        newreal = self.real + num2.real\n",
    "        newimg = self.img + num2.img\n",
    "        return complex(newreal ,newimg)\n",
    "    \n",
    "\n",
    "num1 = complex(4,7)\n",
    "num1.shownumber()\n",
    " \n",
    "num2 = complex(3,4)\n",
    "num2.shownumber()\n",
    "\n",
    "num3 = num1 + num2\n",
    "num3.shownumber()\n",
    "\n",
    "    \n",
    "        "
   ]
  },
  {
   "cell_type": "code",
   "execution_count": null,
   "id": "e1f52eba",
   "metadata": {},
   "outputs": [],
   "source": []
  }
 ],
 "metadata": {
  "kernelspec": {
   "display_name": "Python 3",
   "language": "python",
   "name": "python3"
  },
  "language_info": {
   "codemirror_mode": {
    "name": "ipython",
    "version": 3
   },
   "file_extension": ".py",
   "mimetype": "text/x-python",
   "name": "python",
   "nbconvert_exporter": "python",
   "pygments_lexer": "ipython3",
   "version": "3.12.3"
  }
 },
 "nbformat": 4,
 "nbformat_minor": 5
}
